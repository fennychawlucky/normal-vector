{
  "metadata": {
    "language_info": {
      "codemirror_mode": {
        "name": "python",
        "version": 3
      },
      "file_extension": ".py",
      "mimetype": "text/x-python",
      "name": "python",
      "nbconvert_exporter": "python",
      "pygments_lexer": "ipython3",
      "version": "3.8"
    },
    "kernelspec": {
      "name": "python",
      "display_name": "Python (Pyodide)",
      "language": "python"
    }
  },
  "nbformat_minor": 4,
  "nbformat": 4,
  "cells": [
    {
      "cell_type": "code",
      "source": "#计算两点之间的距离",
      "metadata": {},
      "execution_count": null,
      "outputs": []
    },
    {
      "cell_type": "code",
      "source": "import numpy as np",
      "metadata": {
        "trusted": true
      },
      "execution_count": 38,
      "outputs": []
    },
    {
      "cell_type": "code",
      "source": "# 初始化点\n#middle_point\ncenter_atom=np.array([-0.000013145,2.470234785,1.760399198])\n#Cr_atom order R-18, L-18, U-19, B-19, -20, B-20\n\ncr_atom= np.array([[4.27855153,2.470234785,1.760399198],\n[-4.27858,2.47023,1.7604],\n[-2.139300178,6.175578363,1.760399198],\n[2.13927,-1.23511,1.7604],\n[2.139264497,6.175578363,1.760399198],\n[-2.13929,-1.23511,1.7604]])\nsum_p=(cr_atom[0]+center_atom,\n              cr_atom[1]+center_atom,\n              cr_atom[2]+center_atom,\n              cr_atom[3]+center_atom,\n              cr_atom[4]+center_atom,\n              cr_atom[5]+center_atom)\nmiddle_p=np.array(sum_p)/2\nprint('middle_p')\nprint(middle_p)\n\nup_point=np.array([[2.139262102,3.70535255,3.128645021],\n[-2.13929,3.70535,3.12865],\n[-2.13929,3.70535,3.12865],\n[0,0,3.12865],\n[2.139262102,3.70535255,3.128645021],\n[0,0,3.12865]])\n\ndn_point=np.array([[2.139276257,1.235117109,0.353022121],\n[-2.13929,1.23512,0.35302],\n[-0.000010585,4.940460356,0.353022121],\n[2.139276257,1.235117109,0.353022121],\n[-0.000010585,4.940460356,0.353022121],\n[-2.13929,1.23512,0.35302]])\n",
      "metadata": {
        "trusted": true
      },
      "execution_count": 126,
      "outputs": [
        {
          "name": "stdout",
          "text": "middle_p\n[[ 2.13926919  2.47023479  1.7603992 ]\n [-2.13929657  2.47023239  1.7603996 ]\n [-1.06965666  4.32290657  1.7603992 ]\n [ 1.06962843  0.61756239  1.7603996 ]\n [ 1.06962568  4.32290657  1.7603992 ]\n [-1.06965157  0.61756239  1.7603996 ]]\nR178 [2.13926919 2.47023479 1.7603992 ]\n",
          "output_type": "stream"
        }
      ]
    },
    {
      "cell_type": "code",
      "source": "point_MR178 = middle_p[0]\n#MR178_Te10_up\n#MR178_Te3_dn\npoint_Te10 = up_point[0]\npoint_Te3 = dn_point[0]\npoint_ML178 = middle_p[1]\n#ML178_Te7_up\n#ML178_Te6_dn\npoint_Te7 = up_point[1]\npoint_Te6 = dn_point[1]\npoint_MU179 =middle_p[2]\n#MU179_Te7_up\n#MU179_Te9_dn\npoint_Te9 = dn_point[2]\npoint_MB179 =middle_p[3]\n#MB179_Te1_up\n#MB179_Te3_dn\npoint_Te1 = up_point[3]\npoint_MU170 =middle_p[4]\n#MU170_Te10_up\n#MU170_Te9_dn\npoint_MB170 =middle_p[5]\n#MB170_Te1_up\n#MB170_Te6_dn\nn=np.sqrt(np.sum(np.square(point_MR178 - point_Te10)))\nprint(n)\nprint('point_MR178',point_MR178)\nprint('point_ML178',point_ML178)\nprint('point_MU179',point_MU179)\nprint('point_MB179',point_MB179)\nprint('point_MU170',point_MU170)\nprint('point_MB170',point_MB170)",
      "metadata": {
        "trusted": true
      },
      "execution_count": 128,
      "outputs": [
        {
          "name": "stdout",
          "text": "1.843261382882476\npoint_MR178 [2.13926919 2.47023479 1.7603992 ]\npoint_ML178 [-2.13929657  2.47023239  1.7603996 ]\npoint_MU179 [-1.06965666  4.32290657  1.7603992 ]\npoint_MB179 [1.06962843 0.61756239 1.7603996 ]\npoint_MU170 [1.06962568 4.32290657 1.7603992 ]\npoint_MB170 [-1.06965157  0.61756239  1.7603996 ]\n",
          "output_type": "stream"
        }
      ]
    },
    {
      "cell_type": "code",
      "source": "d_MR178_Te10_up = np.linalg.norm(point_MR178-point_Te10)\nd_MR178_Te3_dn = np.linalg.norm(point_MR178-point_Te3)\nd_ML178_Te7_up = np.linalg.norm(point_ML178-point_Te7)\nd_ML178_Te6_dn = np.linalg.norm(point_ML178-point_Te6)\nd_MU179_Te7_up = np.linalg.norm(point_MU179-point_Te7)\nd_MU179_Te9_dn = np.linalg.norm(point_MU179-point_Te9)\n\nd_MB179_Te1_up = np.linalg.norm(point_MB179-point_Te1)\nd_MB179_Te3_dn = np.linalg.norm(point_MB179-point_Te3)\n\nd_MU170_Te10_up = np.linalg.norm(point_MU170-point_Te10)\nd_MU170_Te9_dn = np.linalg.norm(point_MU170-point_Te9)\n\nd_MB170_Te1_up = np.linalg.norm(point_MB170-point_Te1)\nd_MB170_Te6_dn = np.linalg.norm(point_MB170-point_Te6)\nprint('d_MR178_Te10_up=',d_MR178_Te10_up)\nprint('d_MR178_Te3_dn=',d_MR178_Te3_dn)\nprint('d_ML178_Te7_up=',d_ML178_Te7_up)\nprint('d_ML178_Te6_dn=',d_ML178_Te6_dn)\nprint('d_MU179_Te7_up=',d_MU179_Te7_up)\nprint('d_MU179_Te9_dn=',d_MU179_Te9_dn)\nprint('d_MB179_Te1_up=',d_MB179_Te1_up)\nprint('d_MB179_Te3_dn=',d_MB179_Te3_dn)\nprint('d_MU170_Te10_up=',d_MU170_Te10_up)\nprint('d_MU170_Te9_dn=',d_MU170_Te9_dn)\nprint('d_MB170_Te1_up=',d_MB170_Te1_up)\nprint('d_MB170_Te6_dn=',d_MB170_Te6_dn)",
      "metadata": {
        "trusted": true
      },
      "execution_count": 72,
      "outputs": [
        {
          "name": "stdout",
          "text": "d_MR178_Te10_up= 1.843261382882476\nd_MR178_Te3_dn= 1.8724918986427184\nd_ML178_Te7_up= 1.8432646755787363\nd_ML178_Te6_dn= 1.872490309142259\nd_MU179_Te7_up= 1.8432584892236128\nd_MU179_Te9_dn= 1.8724918262837387\nd_MB179_Te1_up= 1.8432572911514844\nd_MB179_Te3_dn= 1.872493437266763\nd_MU170_Te10_up= 1.8432557306411919\nd_MU170_Te9_dn= 1.8724862192746914\nd_MB170_Te1_up= 1.8432707221183513\nd_MB170_Te6_dn= 1.8724906140878776\n",
          "output_type": "stream"
        }
      ]
    },
    {
      "cell_type": "code",
      "source": "#计算法向量 \n#vector-up \nu_vec=(up_point[0]-middle_p[0],\n           up_point[1]-middle_p[1],\n           up_point[2]-middle_p[2],\n           up_point[3]-middle_p[3],\n           up_point[4]-middle_p[4],\n           up_point[5]-middle_p[5])\nup_vector=np.array(u_vec)\n\nprint('up_vector:')\nprint(up_vector)\n\nv_R8Te10_up=up_vector[0]\nv_L8Te7_up=up_vector[1]\nv_U9Te7_up=up_vector[2]\nv_B9Te1_up=up_vector[3]\nv_U0Te10_up=up_vector[4]\nv_B0Te1_up=up_vector[5]\n\n",
      "metadata": {
        "trusted": true
      },
      "execution_count": 96,
      "outputs": [
        {
          "name": "stdout",
          "text": "up_vector:\n[[-7.09050000e-06  1.23511777e+00  1.36824582e+00]\n [ 6.57250000e-06  1.23511761e+00  1.36825040e+00]\n [-1.06963334e+00 -6.17556574e-01  1.36825080e+00]\n [-1.06962843e+00 -6.17562393e-01  1.36825040e+00]\n [ 1.06963643e+00 -6.17554024e-01  1.36824582e+00]\n [ 1.06965157e+00 -6.17562393e-01  1.36825040e+00]]\n",
          "output_type": "stream"
        }
      ]
    },
    {
      "cell_type": "code",
      "source": "#dn-vector\nd_vec=(dn_point[0]-middle_p[0],\n           dn_point[1]-middle_p[1],\n           dn_point[2]-middle_p[2],\n           dn_point[3]-middle_p[3],\n           dn_point[4]-middle_p[4],\n           dn_point[5]-middle_p[5])\ndn_vector=np.array(d_vec)\nprint('dn_vector:')\nprint(dn_vector)\n\nv_R8Te3_dn=dn_vector[0]\nv_L8Te6_dn=dn_vector[1]\nv_U9Te9_dn=dn_vector[2]\nv_B9Te3_dn=dn_vector[3]\nv_U0Te9_dn=dn_vector[4]\nv_B0Te6_dn=dn_vector[5]\n",
      "metadata": {
        "trusted": true
      },
      "execution_count": 97,
      "outputs": [
        {
          "name": "stdout",
          "text": "dn_vector:\n[[ 7.06450000e-06 -1.23511768e+00 -1.40737708e+00]\n [ 6.57250000e-06 -1.23511239e+00 -1.40737960e+00]\n [ 1.06964608e+00  6.17553782e-01 -1.40737708e+00]\n [ 1.06964783e+00  6.17554716e-01 -1.40737748e+00]\n [-1.06963626e+00  6.17553782e-01 -1.40737708e+00]\n [-1.06963843e+00  6.17557607e-01 -1.40737960e+00]]\n",
          "output_type": "stream"
        }
      ]
    },
    {
      "cell_type": "code",
      "source": "#vector-middle\nm_vector=(center_atom-middle_p[0],\n               center_atom-middle_p[1],\n               center_atom-middle_p[2],\n               center_atom-middle_p[3],\n               center_atom-middle_p[4],\n               center_atom-middle_p[5])\nmiddle_vector=np.array(m_vector)\nprint('middle_vector:')\nprint(middle_vector)\n \nv_R78=middle_vector[0]\nv_L78=middle_vector[1]\nv_U97=middle_vector[2]\nv_B97=middle_vector[3]\nv_U07=middle_vector[4]\nv_B07=middle_vector[5]",
      "metadata": {
        "trusted": true
      },
      "execution_count": 98,
      "outputs": [
        {
          "name": "stdout",
          "text": "middle_vector:\n[[-2.13928234e+00  0.00000000e+00  0.00000000e+00]\n [ 2.13928343e+00  2.39250000e-06 -4.01000000e-07]\n [ 1.06964352e+00 -1.85267179e+00  0.00000000e+00]\n [-1.06964157e+00  1.85267239e+00 -4.01000000e-07]\n [-1.06963882e+00 -1.85267179e+00  0.00000000e+00]\n [ 1.06963843e+00  1.85267239e+00 -4.01000000e-07]]\n",
          "output_type": "stream"
        }
      ]
    },
    {
      "cell_type": "code",
      "source": "n_R8_UP=np.cross(v_R8Te10_up,v_R78)\nn_R8_DN=np.cross(v_R78,v_R8Te3_dn)\n\nm_n_R8_UP=np.linalg.norm(n_R8_UP)\nm_n_R8_DN=np.linalg.norm(n_R8_DN)\n\nn_R8_DN_2=np.cross(v_R8Te3_dn,v_R78)\nm_n_R8_DN_2=np.linalg.norm(n_R8_DN_2)\n\nprint('n_R8_UP:',n_R8_UP,m_n_R8_UP)\nprint('n_R8_DN:',n_R8_DN,m_n_R8_DN)\nprint('n_R8_DN_2:',n_R8_DN_2,m_n_R8_DN_2)",
      "metadata": {
        "trusted": true
      },
      "execution_count": 115,
      "outputs": [
        {
          "name": "stdout",
          "text": "n_R8_UP: [ 0.         -2.92706412  2.64226562] 3.943256519767132\nn_R8_DN: [ 0.         -3.01077692  2.64226543] 4.005788845849699\nn_R8_DN_2: [ 0.          3.01077692 -2.64226543] 4.005788845849699\n",
          "output_type": "stream"
        }
      ]
    },
    {
      "cell_type": "code",
      "source": "n_L8_UP=np.cross(v_L8Te7_up,v_L78)\nn_L8_DN=np.cross(v_L78, v_L8Te6_dn)\n\nm_n_L8_UP=np.linalg.norm(n_L8_UP)\nm_n_L8_DN=np.linalg.norm(n_L8_DN)\n\nn_L8_DN_2=np.cross(v_L8Te6_dn,v_L78)\nm_n_L8_DN_2=np.linalg.norm(n_L8_DN_2)\n\nprint('n_L8_UP:',n_L8_UP,m_n_L8_UP)\nprint('n_L8_DN:',n_L8_DN,m_n_L8_DN)\nprint('n_L8_DN_2:',n_L8_DN_2,m_n_L8_DN_2)",
      "metadata": {
        "trusted": true
      },
      "execution_count": 116,
      "outputs": [
        {
          "name": "stdout",
          "text": "n_L8_UP: [-3.76882125e-06  2.92707541e+00 -2.64226663e+00] 3.943265572929907\nn_L8_DN: [-3.86243576e-06  3.01078385e+00 -2.64225547e+00] 4.005787486487962\nn_L8_DN_2: [ 3.86243576e-06 -3.01078385e+00  2.64225547e+00] 4.005787486487962\n",
          "output_type": "stream"
        }
      ]
    },
    {
      "cell_type": "code",
      "source": "n_U9_UP=np.cross(v_U9Te7_up,v_U97)\nn_U9_DN=np.cross(v_U97,v_U9Te9_dn)\n\nm_n_U9_UP=np.linalg.norm(n_U9_UP)\nm_n_U9_DN=np.linalg.norm(n_U9_DN)\n\nn_U9_DN_2=np.cross(v_U9Te9_dn,v_U97)\nm_n_U9_DN_2=np.linalg.norm(n_U9_DN_2)\n\nprint('n_U9_UP:',n_U9_UP,m_n_U9_UP)\nprint('n_U9_DN:',n_U9_DN,m_n_U9_DN)\nprint('n_U9_DN_2:',n_U9_DN_2,m_n_U9_DN_2)",
      "metadata": {
        "trusted": true
      },
      "execution_count": 119,
      "outputs": [
        {
          "name": "stdout",
          "text": "n_U9_UP: [2.53491966 1.4635406  2.6422449 ] 3.943250799288788\nn_U9_DN: [2.60740781 1.50539177 2.64226551] 4.005789168350581\nn_U9_DN_2: [-2.60740781 -1.50539177 -2.64226551] 4.005789168350581\n",
          "output_type": "stream"
        }
      ]
    },
    {
      "cell_type": "code",
      "source": "n_B9_UP=np.cross(v_B9Te1_up,v_B97)\nn_B9_DN=np.cross(v_B97,v_B9Te3_dn)\n\nm_n_B9_UP=np.linalg.norm(n_B9_UP)\nm_n_B9_DN=np.linalg.norm(n_B9_DN)\n\nn_B9_DN_2=np.cross(v_B9Te3_dn,v_B97)\nm_n_B9_DN_2=np.linalg.norm(n_B9_DN_2)\n\nprint('n_B9_UP:',n_B9_UP,m_n_B9_UP)\nprint('n_B9_DN:',n_B9_DN,m_n_B9_DN)\nprint('n_B9_DN_2:',n_B9_DN_2,m_n_B9_DN_2)",
      "metadata": {
        "trusted": true
      },
      "execution_count": 129,
      "outputs": [
        {
          "name": "stdout",
          "text": "n_B9_UP: [-2.5349195  -1.46353794 -2.64224147] 3.94324740793514\nn_B9_DN: [-2.60740915 -1.50538989 -2.6422692 ] 4.005791773294165\nn_B9_DN_2: [2.60740915 1.50538989 2.6422692 ] 4.005791773294165\n",
          "output_type": "stream"
        }
      ]
    },
    {
      "cell_type": "code",
      "source": "n_U07_UP=np.cross(v_U0Te10_up,v_U07)\nn_U07_DN=np.cross(v_U07,v_U0Te9_dn)\n\nm_n_U07_UP=np.linalg.norm(n_U07_UP)\nm_n_U07_DN=np.linalg.norm(n_U07_DN)\n\nn_U07_DN_2=np.cross(v_U0Te9_dn,v_U07)\nm_n_U07_DN_2=np.linalg.norm(n_U07_DN_2)\n\nprint('n_U07_UP:',n_U07_UP,m_n_U07_UP)\nprint('n_U07_DN:',n_U07_DN,m_n_U07_DN)\nprint('n_U07_DN_2:',n_U07_DN_2,m_n_U07_DN_2)",
      "metadata": {
        "trusted": true
      },
      "execution_count": 122,
      "outputs": [
        {
          "name": "stdout",
          "text": "n_U07_UP: [ 2.53491044 -1.46352885 -2.64224499] 3.943240570397287\nn_U07_DN: [ 2.60740781 -1.50538516 -2.64224442] 4.005772777272388\nn_U07_DN_2: [-2.60740781  1.50538516  2.64224442] 4.005772777272388\n",
          "output_type": "stream"
        }
      ]
    },
    {
      "cell_type": "code",
      "source": "n_B07_UP=np.cross(v_B0Te1_up,v_B07)\nn_B07_DN=np.cross(v_B07,v_B0Te6_dn)\n\nm_n_B07_UP=np.linalg.norm(n_B07_UP)\nm_n_B07_DN=np.linalg.norm(n_B07_DN)\n\nn_B07_DN_2=np.cross(v_B0Te6_dn,v_B07)\nm_n_B07_DN_2=np.linalg.norm(n_B07_DN_2)\n\nprint('n_B07_UP:',n_B07_UP,m_n_B07_UP)\nprint('n_B07_DN:',n_B07_DN,m_n_B07_DN)\nprint('n_B07_DN_2:',n_B07_DN_2,m_n_B07_DN_2)",
      "metadata": {
        "trusted": true
      },
      "execution_count": 124,
      "outputs": [
        {
          "name": "stdout",
          "text": "n_B07_UP: [-2.5349195   1.46353364  2.6422824 ] 3.9432732420843597\nn_B07_DN: [-2.60741308  1.50538773  2.64225293] 4.0057827892436455\nn_B07_DN_2: [ 2.60741308 -1.50538773 -2.64225293] 4.0057827892436455\n",
          "output_type": "stream"
        }
      ]
    }
  ]
}